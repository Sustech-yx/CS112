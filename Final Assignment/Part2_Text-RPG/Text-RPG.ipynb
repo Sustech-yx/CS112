{
 "cells": [
  {
   "cell_type": "markdown",
   "metadata": {
    "collapsed": true
   },
   "source": [
    "# Assignment Part 2: Text-based RPG\n",
    "\n",
    "In this assignment, you will review object-oriented programming (OOP) principles by creating your own text-based adventure game in Python. \n",
    "\n",
    "We'll be diving into object-oriented programming (OOP), a model of programming that allows you to think of data in terms of \"objects\" with their own characteristics and actions, just like objects in real life! This is very powerful and allows you to create objects that are specific to your program.\n",
    "\n",
    "In the following homework it will be covering the:\n",
    "\n",
    "1. Hero Class (with its Getters and Setters)\n",
    "2. Enemy Class (with its Getters and Setters)\n",
    "3. Battle function\n",
    "4. Level up function and fight against BOSS.\n"
   ]
  },
  {
   "cell_type": "markdown",
   "metadata": {},
   "source": [
    "## Task 1: Be your Hero!\n",
    "There are 7 different attributes for the Hero class, which would be the hero:\n",
    "* Health = Hhealth\n",
    "* Attack = Hattack\n",
    "* Luck = Hluck\n",
    "* Ranged = Hranged\n",
    "* Defence = Hdefence\n",
    "* Magic = Hmagic\n",
    "* Name = Hname\n",
    "\n",
    "### Setters and Getters\n",
    "We’re going to use these attributes for the setters and getters which are ways to call the attributes of the Hero and edit its attributes. For example if the Hero gets attacked, we can call the attribute “Hhealth” and reduce its health or if the Hero level up, then we can increase the attribute “Hhealth”.\n",
    "\n",
    "We use getters & setters to add validation logic around getting and setting a value. The way we create a Getter in Python, is like this:\n",
    "\n",
    "```python\n",
    "def getHealth(self):\n",
    "    return self.health\n",
    "```\n",
    "\n",
    "Is like any other method for a class, and we’re calling the function “getHealth”, because we’re going to use it for later in the game whenever we want to call the function to edit the health of the Hero.\n",
    "\n",
    "The way we create a Setter in Python, is like this:\n",
    "\n",
    "```python\n",
    "def setHealth(self, newHealth):\n",
    "    self.health = newHealth\n",
    "```"
   ]
  },
  {
   "cell_type": "code",
   "execution_count": 1,
   "metadata": {},
   "outputs": [],
   "source": [
    "# We're constructing a class name hero\n",
    "# Hhealth = Hero Health\n",
    "\n",
    "class Hero:\n",
    "    # TODO: Use the __init__() function to assign values to object\n",
    "    # properties, or other operations that are necessary to do\n",
    "    # when the object is being created:\n",
    "    ############# YOUR CODE HERE #############\n",
    "    def __init__(self, Hhealth, Hattack, Hluck, Hranged, Hdefence, Hmagic, Hname):\n",
    "        self.health = Hhealth\n",
    "        self.attack = Hattack\n",
    "        self.luck = Hluck\n",
    "        self.ranged = Hranged\n",
    "        self.defence = Hdefence \n",
    "        self.magic = Hmagic\n",
    "        self.name = Hname\n",
    "    ############# YOUR CODE HERE #############\n",
    "    \n",
    "    # we're gonna get setters and getters\n",
    "    # These are getters, where we can check the health or attack of the character\n",
    "    def getHealth(self):\n",
    "        return self.health\n",
    "    def getAttack(self):\n",
    "        return self.attack\n",
    "    def getLuck(self):\n",
    "        return self.luck\n",
    "    def getRanged(self):\n",
    "        return self.ranged\n",
    "    def getDefence(self):\n",
    "        return self.defence\n",
    "    def getMagic(self):\n",
    "        return self.magic\n",
    "    def getName(self):\n",
    "        return self.name\n",
    "\n",
    "    # setters is what we can use to change a variable\n",
    "    # for example if we want to set a new attack value\n",
    "    def setHealth(self, newHealth):\n",
    "        self.health = newHealth\n",
    "    def setAttack(self, newAttack):\n",
    "        self.attack = newAttack\n",
    "    def setLuck(self, newLuck):\n",
    "        self.luck = newLuck\n",
    "    def setRanged(self, newRanged):\n",
    "        self.ranged = newRanged\n",
    "    def setDefence(self, newDefence):\n",
    "        self.defence = newDefence\n",
    "    def setMagic(self, newMagic):\n",
    "        self.magic = newMagic"
   ]
  },
  {
   "cell_type": "code",
   "execution_count": 2,
   "metadata": {},
   "outputs": [],
   "source": [
    "import math\n",
    "import random\n",
    "import time\n",
    "import os\n",
    "import sys\n",
    "# import sleep to show output for some time period\n",
    "from time import sleep\n",
    "\n",
    "random.seed(20230102)\n",
    "\n",
    "# ***Clear the screen function***\n",
    "def clear_screen():\n",
    "    \"\"\"\n",
    "    This function will clear the screen\n",
    "    \"\"\"\n",
    "    sleep(2)\n",
    "    os.system('cls')\n",
    "\n",
    "# function for making the illusion of typing on every print\n",
    "def typing(message):\n",
    "    print(\"\")\n",
    "    # print(message) # Eliminate this after testing...\n",
    "    for word in message:\n",
    "        time.sleep(random.choice([0.03, 0.011, 0.008, 0.007,   0.007, 0.007, 0.006, 0.006, 0.005, 0.001]))\n",
    "        sys.stdout.write(word)\n",
    "        sys.stdout.flush()\n",
    "    time.sleep(.1)\n",
    "    return \"\"\n",
    "\n",
    "# we're gonna ask the user a series of questions and the answers to those questions are gonna build our class\n",
    "def createClass():\n",
    "    global heroAttack, heroRanged, heroMagic, heroDefence, heroLuck\n",
    "    typing('Type \"1\" for first option, and \"2\" for the second option')\n",
    "    a = int(input(typing(\"Are you more strategic(1) or more of a warrior(2)?: \")))\n",
    "    while a != 1 and a != 2:\n",
    "        typing(f\"{a} is not either '1' or '2'... invalid option\\n\")\n",
    "        m1 = typing(\"Are you more strategic(1) or more of a warrior(2)?: \\n\")\n",
    "        a = int(input(m1))\n",
    "\n",
    "    if a == 1:\n",
    "        # Strategic path\n",
    "        heroAttack = 5\n",
    "        heroDefence = 7\n",
    "    elif a == 2:\n",
    "        # Warrior path\n",
    "        heroAttack = 10\n",
    "        heroDefence = 15\n",
    "\n",
    "    # Determining the hero's luck!\n",
    "    typing(\"Let's see how much luck you have\")\n",
    "    b = input(typing(\"Press enter to roll a dice...\"))\n",
    "    typing('Rolling dice...')\n",
    "    heroLuck = random.randint(3,10)\n",
    "    typing(f\"Your hero has {heroLuck} points out of 10\")\n",
    "\n",
    "    typing(\"Interesting...\")\n",
    "    # Determining the hero's magic!\n",
    "    c = int(input(typing(\"Are you more of a bow and arrow(1) or a magic user?(2): \")))\n",
    "    while c != 1 and c != 2:\n",
    "        typing(f\"{c} is not either '1' or '2'... invalid option\")\n",
    "        c = int(input(typing(\"Are you more of a bow and arrow(1) or a magic user(2)?: \")))\n",
    "\n",
    "    if c == 1:\n",
    "        # Archer Path\n",
    "        typing(\"Nice choice. Arrows are best\")\n",
    "        heroRanged = 15\n",
    "        heroMagic = 5\n",
    "    elif c == 2:\n",
    "        typing(\"Nice choice.Magic is best\")\n",
    "        heroRanged = 5\n",
    "        heroMagic = 15\n",
    "\n",
    "    time.sleep(1)\n",
    "    # Determining the hero's Name!\n",
    "    heroName = input(typing(\"Tell me your name, and please don't give me a boring one: \"))\n",
    "    typing(f\"You have created your character, {heroName}...\")\n",
    "    time.sleep(2)\n",
    "    clear_screen()\n",
    "    typing(\"\\nHere's your character:\"+heroName)\n",
    "    typing(\"Hero Attack:\"+str(heroAttack))\n",
    "    typing(\"Hero Luck:\"+str(heroLuck))\n",
    "    typing(\"Hero Ranged:\"+str(heroRanged))\n",
    "    typing(\"Hero Defence:\"+str(heroDefence))\n",
    "    typing(\"Hero Magic:\"+str(heroMagic))\n",
    "    return (heroAttack, heroLuck, heroRanged, heroDefence, heroMagic, heroName)"
   ]
  },
  {
   "cell_type": "markdown",
   "metadata": {},
   "source": [
    "Then we try to generate our hero."
   ]
  },
  {
   "cell_type": "code",
   "execution_count": 3,
   "metadata": {},
   "outputs": [
    {
     "name": "stdout",
     "output_type": "stream",
     "text": [
      "\n",
      "Type \"1\" for first option, and \"2\" for the second option\n",
      "Are you more strategic(1) or more of a warrior(2)?: 2\n",
      "\n",
      "Let's see how much luck you have\n",
      "Press enter to roll a dice...\n",
      "\n",
      "Rolling dice...\n",
      "Your hero has 8 points out of 10\n",
      "Interesting...\n",
      "Are you more of a bow and arrow(1) or a magic user?(2): 1\n",
      "\n",
      "Nice choice. Arrows are best\n",
      "Tell me your name, and please don't give me a boring one: yxx\n",
      "\n",
      "You have created your character, yxx...\n",
      "\n",
      "Here's your character:yxx\n",
      "Hero Attack:10\n",
      "Hero Luck:8\n",
      "Hero Ranged:15\n",
      "Hero Defence:15\n",
      "Hero Magic:5"
     ]
    }
   ],
   "source": [
    "class_data = createClass()\n",
    "gen_character = Hero(Hhealth = 30, Hattack= class_data[0], Hluck= class_data[1], Hranged = class_data[2], Hdefence = class_data[3], Hmagic = class_data[4], Hname = class_data[5])"
   ]
  },
  {
   "cell_type": "markdown",
   "metadata": {},
   "source": [
    "## Task 2 Enemy Class\n",
    "Similar to the Hero Class, in the Enemy Class we’re going to use setters and getters, but we’re going to create a subclass: “The Boss”\n",
    "\n",
    "The way we’re going to do this is by simply inheriting the enemy class as the parent class and we’re going to use the boss class as the child class. You can do it by doing the following:\n",
    "\n",
    "\n"
   ]
  },
  {
   "cell_type": "code",
   "execution_count": 4,
   "metadata": {},
   "outputs": [],
   "source": [
    "class Enemy:\n",
    "    def __init__(self, Ehealth, Eattack, Especial, Echance, Ename):\n",
    "        # attributes for the enemy class\n",
    "        self.health = Ehealth\n",
    "        self.attack = Eattack\n",
    "        self.special = Especial\n",
    "        self.chance = Echance\n",
    "        self.name = Ename\n",
    "\n",
    "    ## TODO: we're gonna get setters and getters JUST LIKE hero class\n",
    "    # These are getters, where we can check the health or attack of the character\n",
    "    ############# YOUR CODE HERE #############\n",
    "    def getHealth(self):\n",
    "        return self.health\n",
    "    def getAttack(self):\n",
    "        return self.attack\n",
    "    def getSpecial(self):\n",
    "        return self.special\n",
    "    def getChance(self):\n",
    "        return self.chance\n",
    "    def getName(self):\n",
    "        return self.name\n",
    "\n",
    "    def setHealth(self, newHealth):\n",
    "        self.health = newHealth\n",
    "    def setAttack(self, newAttack):\n",
    "        self.attack = newAttack\n",
    "    def setSpecial(self, newSpecial):\n",
    "        self.special = newSpecial\n",
    "    def setChance(self, newChance):\n",
    "        self.chance = newChance\n",
    "    ############# YOUR CODE HERE #############\n",
    "\n",
    "    def show(self):\n",
    "        typing(\"Enemy Name: {}. \\nHealth: {}. \\nAttack: {}.\".format(self.name, self.health,self.attack))"
   ]
  },
  {
   "cell_type": "code",
   "execution_count": 5,
   "metadata": {},
   "outputs": [],
   "source": [
    "class Boss(Enemy):\n",
    "    def __init__(self, Ehealth, Eattack, Especial, Echance, Ename, EsuperMove):\n",
    "        ## TODO: use the super method  to actually inherit the Enemy class\n",
    "        ############# YOUR CODE HERE #############\n",
    "        super(Boss, self).__init__(Ehealth, Eattack, Especial, Echance, Ename)\n",
    "        ############# YOUR CODE HERE #############\n",
    "        self.superMove = EsuperMove\n",
    "    \n",
    "    # getter for SuperMove\n",
    "    def getSuper(self):\n",
    "        return self.superMove\n",
    "\n",
    "    # setter for SuperMove\n",
    "    def setSuper(self, newSuperMove):\n",
    "        self.superMove = newSuperMove"
   ]
  },
  {
   "cell_type": "markdown",
   "metadata": {},
   "source": [
    "Next, we need to create the enemy generator.\n",
    "\n",
    "As enemies, they should have some ring to them. But it's really too hard to think of names, so here we have two documents: `adjective.txt` and `animal.txt`.\n",
    "\n",
    "`adjective.txt` contains a number of adjectives, especially evil-sounding ones,just like Amused\\Scary\\Annoyed.\n",
    "\n",
    " `animal.txt` contains the names of different animals.\n",
    "\n",
    "So we just add the adjectives and the animal names to get the names of many kinds of enemies.\n",
    "\n",
    "\n",
    "\n"
   ]
  },
  {
   "cell_type": "code",
   "execution_count": 6,
   "metadata": {},
   "outputs": [],
   "source": [
    "# If I want to create a last boss or something I can just create an inheritance of Boss with the super method\n",
    "\n",
    "# creating a function to create enemies, here I give a default value for the function\n",
    "def enemygen(levelBoss=False):\n",
    "    \"\"\"\n",
    "    :param levelBoss:\n",
    "    :return: This function will return an enemy or a boss depending if\n",
    "    the variable 'level boss' is True or False\n",
    "    \"\"\"\n",
    "    temp = [] # ?\n",
    "    ## TODO:Open 'adjective.txt' and 'animal.txt' to choose a random adjective and a random animal\n",
    "    ## and join them together to make the name of the enemy.\n",
    "    ############# YOUR CODE HERE #############\n",
    "    adjective = open('adjective.txt', 'r').read().split('\\n')\n",
    "    animal = open('animal.txt', 'r').read().split('\\n')\n",
    "    name = random.choice(adjective) + \" \" + random.choice(animal)\n",
    "    ############# YOUR CODE HERE #############\n",
    "\n",
    "    time.sleep(1)\n",
    "    if levelBoss == False:\n",
    "        health = random.randint(5, 20)\n",
    "        attack = random.randint(5,10)\n",
    "        special = random.randint(10,20)\n",
    "        chance = random.randint(1,10)\n",
    "        # TODO: In here we're saying: call the class Enemy and give those attributes\n",
    "        ############# YOUR CODE HERE #############\n",
    "        typing(\"Call the class Enemy.\")\n",
    "        enemy = Enemy(health, attack, special, chance, name)\n",
    "        ############# YOUR CODE HERE #############\n",
    "\n",
    "    else:\n",
    "        health = random.randint(50, 70)\n",
    "        attack = random.randint(20, 40)\n",
    "        special = random.randint(50, 60)\n",
    "        chance = random.randint(1, 8)\n",
    "        superMove = random.randint(100,200)\n",
    "        ename=\"Python Homework\"\n",
    "        ## TODO: Return the Boss object and give it those attributes\n",
    "        ############# YOUR CODE HERE #############\n",
    "        enemy = Boss(health, attack, special, chance, ename, superMove)\n",
    "        ############# YOUR CODE HERE #############\n",
    "    return enemy"
   ]
  },
  {
   "cell_type": "markdown",
   "metadata": {},
   "source": [
    "So let's create an enemy!"
   ]
  },
  {
   "cell_type": "code",
   "execution_count": 7,
   "metadata": {},
   "outputs": [
    {
     "name": "stdout",
     "output_type": "stream",
     "text": [
      "\n",
      "Call the class Enemy.\n",
      "Enemy Name: Sore Black Footed Rhino. \n",
      "Health: 6. \n",
      "Attack: 9."
     ]
    }
   ],
   "source": [
    "enemy_1 = enemygen(levelBoss=False)\n",
    "enemy_1.show()"
   ]
  },
  {
   "cell_type": "markdown",
   "metadata": {},
   "source": [
    "Ha,it seems work."
   ]
  },
  {
   "cell_type": "markdown",
   "metadata": {},
   "source": [
    "## Task 3 Battle\n",
    "Finally, we come to the heart of the game, the battle part. We needed to design a complex combat system to enable our heroes to fight against their enemies.\n",
    "\n",
    "That sounds like a lot of challenges. But relax, let's take it step by step.\n",
    "\n",
    "Let's start by recalling what we did in the first two steps, we generated a hero and then an enemy (maybe more). \n",
    "The hero has health attribute, and......er, what other attributes?\n",
    "\n",
    " Let's see what attributes our hero has. You can use python to get the list of attributes for the Hero you just defined\n"
   ]
  },
  {
   "cell_type": "markdown",
   "metadata": {},
   "source": [
    "Well,or maybe we can also slide up on a roller to see:\n",
    "\n",
    "* Health = Hhealth\n",
    "* Attack = Hattack\n",
    "* Luck = Hluck\n",
    "* Ranged = Hranged\n",
    "* Defence = Hdefence\n",
    "* Magic = Hmagic\n",
    "* Name = Hname*\n",
    "\n",
    "\n",
    "At the very beginning we haven't said what the purpose of defining these attributes is. \n",
    "\n",
    "### 3.1 Attribute-health\n",
    "The hero's `health` is what is often referred to in the game as his life value; if it is less than 0, that means the character is about to die. So we should start by writing a function that determines survival.\n",
    "\n"
   ]
  },
  {
   "cell_type": "code",
   "execution_count": 8,
   "metadata": {},
   "outputs": [],
   "source": [
    "def is_dead(health):\n",
    "    if health <= 0: # modified, why '1' before?\n",
    "        return True\n",
    "    else:\n",
    "        return False"
   ]
  },
  {
   "cell_type": "markdown",
   "metadata": {},
   "source": [
    "A good start!\n",
    "\n",
    "### 3.2 Attribute-Luck\n",
    "Then,attribute `Luck` represents how lucky our character is.\n",
    "\n",
    "When you are lucky, you will be more likely to be able to attack the opponent, so we define a function that determines whether the attack is a good one or not.\n"
   ]
  },
  {
   "cell_type": "code",
   "execution_count": 9,
   "metadata": {},
   "outputs": [],
   "source": [
    "def hit_chance(luck):\n",
    "    hit = random.randint(0,4)\n",
    "    if luck < hit:\n",
    "        return False\n",
    "    else:\n",
    "        return True"
   ]
  },
  {
   "cell_type": "markdown",
   "metadata": {},
   "source": [
    "### 3.3 Other attribute\n",
    "Next, attribute `Attack` represents our character's ability to attack conventionally, attribute `Ranged` represents our character's ability to bow and arrow, and attribute `Magic` represents our character's ability to use magic.Let's also keep it simple here and just use the ability to represent the attack value.\n",
    "\n",
    "\n",
    "Well....It may be difficult to understand, so let's practice makes perfect.\n",
    "We can try to write combat functions.\n",
    "\n",
    "We can start with an example of a enemy's attack.\n",
    "\n",
    "Because,they only have the `attack` attribute, and the actual `damage` they do to us is their `attack` value minus our `defence` attribute."
   ]
  },
  {
   "cell_type": "code",
   "execution_count": 10,
   "metadata": {},
   "outputs": [],
   "source": [
    "def enemy_attack(hit_chance, attack_value, name, defence):\n",
    "    \"\"\"\n",
    "    :param hit_chance:\n",
    "    :param attack_value:\n",
    "    :param name:\n",
    "    :param defence:\n",
    "    :return: This function will return the attack inflicted if an enemy hits you\n",
    "    \"\"\"\n",
    "    typing(f\"{name} is preparing for an attack \")\n",
    "    hit = random.randint(0,10)\n",
    "    if hit_chance >= hit:\n",
    "        typing(\"It has hit you!\")\n",
    "        loss = max(0, attack_value - defence) # bug fixed: the loss cannot lower than zero...\n",
    "        typing(f\"You stagger and you loose {loss} points of health\")\n",
    "        return math.ceil(loss)\n",
    "    else:\n",
    "        typing(f\"You're lucky: the enemy missed you\")\n",
    "        return 0\n",
    "    \n",
    "def enemy_attack(enemy: Enemy, defence):\n",
    "    typing(f\"{enemy.getName()} is preparing for an attack \")\n",
    "    hit = random.randint(0,10)\n",
    "    if enemy.getChance() >= hit:\n",
    "        typing(\"It has hit you!\")\n",
    "        loss = max(0, enemy.getAttack() - defence) # bug fixed: the loss cannot lower than zero...\n",
    "        typing(f\"You stagger and you loose {loss} points of health\")\n",
    "        return math.ceil(loss)\n",
    "    else:\n",
    "        typing(f\"You're lucky: the enemy missed you\")\n",
    "        return 0\n",
    "    \n",
    "def hero_attack(hero: Hero, choice):\n",
    "    typing(\"You are preparing for the attack\")\n",
    "    hit = hit_chance(hero.getLuck())\n",
    "    damage = 0\n",
    "    if hit:\n",
    "        if choice == 1:\n",
    "            damage = hero.getAttack()\n",
    "        elif choice == 2:\n",
    "            damage = hero.getRanged()\n",
    "        elif choice == 3:\n",
    "            damage = hero.getMagic()\n",
    "        else:\n",
    "            typing(\"Fake input, something wrong happen when calling the function.\")\n",
    "            hit = False\n",
    "        damage = max(0, damage)\n",
    "    else:\n",
    "        pass\n",
    "    return (hit, math.ceil(damage))"
   ]
  },
  {
   "cell_type": "markdown",
   "metadata": {},
   "source": [
    "So turn your attention back to the battle function which aims to simulate a battle between the hero and an enemy."
   ]
  },
  {
   "cell_type": "code",
   "execution_count": 11,
   "metadata": {},
   "outputs": [],
   "source": [
    "def battle(enemygen, gen_character):\n",
    "    \"\"\"\n",
    "    :param enemygen:\n",
    "    :param gen_character:\n",
    "    :return: it will return the battle between the hero and the enemy\n",
    "    \"\"\"\n",
    "    battle = True\n",
    "    while battle:\n",
    "            # Fisrt,we need to choose our warpon.\n",
    "            typing(f\"Choose your weapon {class_data[5]}!\")\n",
    "            typing(\"Sword Attack(1) \\nRanged Attack(2) \\nMagic Attack(3)\")\n",
    "            choice = int(input())\n",
    "            #Check choice code\n",
    "            while choice != 1 and choice != 2 and choice != 3:\n",
    "                typing(f\"Heeeeeeeee! A {enemygen.getName()} is trying to kill us and you're typing the wrong keys!\")\n",
    "                time.sleep(3)\n",
    "                typing(\"Sword Attack(1) \\nRanged Attack(2) \\nMagic Attack(3) \\n Choose your weapon: \")\n",
    "                choice = int(input())\n",
    "            \n",
    "            ##TODO: Get characater attribute as damage\n",
    "            \n",
    "            hit, damage = hero_attack(gen_character, choice)\n",
    "\n",
    "            if hit == True:\n",
    "                ## TODO:When an enemy is attacked, his latest health is the previous health\n",
    "                ## minus the damage of our attack\n",
    "                previous_health = enemygen.getHealth()\n",
    "                previous_health -= damage\n",
    "                enemygen.setHealth(previous_health)\n",
    "                del previous_health\n",
    "                typing(\"You've hit the enemy!\") # ??? You've the enemy????\n",
    "                typing(f\"The enemy health is {enemygen.getHealth()}\")\n",
    "            else:\n",
    "                typing(\"Your attack missed!\")\n",
    "\n",
    "            ## Determining if an enemy is dead\n",
    "            enemy_is_dead = is_dead(enemygen.getHealth())\n",
    "\n",
    "            if enemy_is_dead == False:\n",
    "\n",
    "                ## TODO: Use enemy_attack function to simulate enemy attacks\n",
    "                # PS: In this case as the enemy_attack is a negative value, we need to put the '+' sign because otherwise\n",
    "                # it will give more life to our character when an enemy hits it.\n",
    "                ############# YOUR CODE HERE #############\n",
    "                damage = enemy_attack(enemygen, gen_character.getDefence())\n",
    "                previous_health = gen_character.getHealth()\n",
    "                previous_health -= damage\n",
    "                gen_character.setHealth(previous_health)\n",
    "                del previous_health\n",
    "                ############# YOUR CODE HERE #############\n",
    "                # Checking if the enemy is dead\n",
    "\n",
    "                character_is_dead = is_dead(gen_character.getHealth())\n",
    "\n",
    "                if character_is_dead == True:\n",
    "                    battle = False\n",
    "                    return False\n",
    "\n",
    "                else:\n",
    "                    typing(f\"You character remaining health is {gen_character.getHealth()}\")\n",
    "\n",
    "            # this else is when the enemy dies\n",
    "            else:\n",
    "                battle = False\n",
    "                typing(\"You have defeated the enemy\")\n",
    "                #typing(\"Did it drop any loot?\")\n",
    "                #loot(gen_character.getLuck(), gen_character)\n",
    "\n",
    "                return True"
   ]
  },
  {
   "cell_type": "markdown",
   "metadata": {},
   "source": [
    "Let's try to fight the first enemy!!!"
   ]
  },
  {
   "cell_type": "code",
   "execution_count": 12,
   "metadata": {},
   "outputs": [
    {
     "name": "stdout",
     "output_type": "stream",
     "text": [
      "\n",
      "Choose your weapon yxx!\n",
      "Sword Attack(1) \n",
      "Ranged Attack(2) \n",
      "Magic Attack(3)2\n",
      "\n",
      "You are preparing for the attack\n",
      "You've hit the enemy!\n",
      "The enemy health is -9\n",
      "You have defeated the enemy"
     ]
    },
    {
     "data": {
      "text/plain": [
       "True"
      ]
     },
     "execution_count": 12,
     "metadata": {},
     "output_type": "execute_result"
    }
   ],
   "source": [
    "battle_result1 = battle(enemygen=enemy_1, gen_character=gen_character)\n",
    "battle_result1"
   ]
  },
  {
   "cell_type": "markdown",
   "metadata": {},
   "source": [
    "## Task 4 Keep Going\n",
    "\n",
    "It seems that the general framework of the game has been reached, but our heroes are still short of opportunities to grow, we may need to add a growth system, otherwise how are we going to fight the bosses?"
   ]
  },
  {
   "cell_type": "code",
   "execution_count": 22,
   "metadata": {},
   "outputs": [],
   "source": [
    "from operator import methodcaller\n",
    "\n",
    "def loot(luck, gen_character):\n",
    "    lootChance = random.randint(0,4)\n",
    "    if luck < lootChance:\n",
    "        typing(\"No loot found );\")\n",
    "    else:\n",
    "        # I have 5 diff tables to look at, this tables are the txt files!\n",
    "        table_number = random.randint(0,4)\n",
    "        loot_table_list = [\"items\", 'ranged', 'defence', 'magic', 'attack']\n",
    "        # through this new variable is going to randomly look up in any of the files\n",
    "        item_type = loot_table_list[table_number]\n",
    "        \n",
    "        ## TODO:\n",
    "        ## 1.Opening the file and get item name\n",
    "        ## 2.Add the appropriate value for the character based on the item's properties\n",
    "        ############# YOUR CODE HERE #############\n",
    "        # eval is evil\n",
    "        content = open(item_type + '.txt').read().split('\\n')\n",
    "        item = random.choice(content)\n",
    "        item = item.split(',')\n",
    "        for index, tmp in enumerate(item):\n",
    "            item[index] = tmp.replace(',', '').strip()\n",
    "        while '' in item:\n",
    "            item.remove('')\n",
    "\n",
    "        name = item[0]\n",
    "        value = int(item[1])\n",
    "        if len(item) == 3:\n",
    "            tp = item[2]\n",
    "        else:\n",
    "            tp = item_type\n",
    "        assert tp in ['attack', 'ranged', 'magic', 'defence', 'luck', 'health']\n",
    "        getter = 'get' + tp.capitalize()\n",
    "        setter = 'set' + tp.capitalize()\n",
    "        \n",
    "        previous_value = methodcaller(getter)(gen_character)\n",
    "        typing(f'Finding item {name}, the previous {tp} of hero {gen_character.getName()} is {previous_value}.')\n",
    "        previous_value += value\n",
    "        methodcaller(setter, previous_value)(gen_character)\n",
    "        new_value = methodcaller(getter)(gen_character)\n",
    "        time.sleep(0.5)\n",
    "        typing(f'The {tp} of {gen_character.getName()} become {new_value}!')"
   ]
  },
  {
   "cell_type": "markdown",
   "metadata": {},
   "source": [
    "Then,we can renew our battle functions:\n",
    "\n",
    "ps:\n",
    "The code here is the same as the previous code, just add the `loot` function at the end to the code you completed earlier\n"
   ]
  },
  {
   "cell_type": "code",
   "execution_count": 15,
   "metadata": {},
   "outputs": [],
   "source": [
    "def battle(enemygen, gen_character):\n",
    "    \"\"\"\n",
    "    :param enemygen:\n",
    "    :param gen_character:\n",
    "    :return: it will return the battle between the hero and the enemy\n",
    "    \"\"\"\n",
    "    battle = True\n",
    "    while battle:\n",
    "            # Fisrt,we need to choose our warpon.\n",
    "            typing(f\"Choose your weapon {class_data[5]}!\")\n",
    "            typing(\"Sword Attack(1) \\nRanged Attack(2) \\nMagic Attack(3)\")\n",
    "            choice = int(input())\n",
    "            #Check choice code\n",
    "            while choice != 1 and choice != 2 and choice != 3:\n",
    "                typing(f\"Heeeeeeeee! A {enemygen.getName()} is trying to kill us and you're typing the wrong keys!\")\n",
    "                time.sleep(3)\n",
    "                typing(\"Sword Attack(1) \\nRanged Attack(2) \\nMagic Attack(3) \\n Choose your weapon: \")\n",
    "                choice = int(input())\n",
    "            \n",
    "            ##TODO: Get characater attribute as damage\n",
    "            \n",
    "            hit, damage = hero_attack(gen_character, choice)\n",
    "\n",
    "            if hit == True:\n",
    "                ## TODO:When an enemy is attacked, his latest health is the previous health\n",
    "                ## minus the damage of our attack\n",
    "                previous_health = enemygen.getHealth()\n",
    "                previous_health -= damage\n",
    "                enemygen.setHealth(previous_health)\n",
    "                del previous_health\n",
    "                typing(\"You've hit the enemy!\") # ??? You've the enemy????\n",
    "                typing(f\"The enemy health is {enemygen.getHealth()}\")\n",
    "            else:\n",
    "                typing(\"Your attack missed!\")\n",
    "\n",
    "            ## Determining if an enemy is dead\n",
    "            enemy_is_dead = is_dead(enemygen.getHealth())\n",
    "\n",
    "            if enemy_is_dead == False:\n",
    "\n",
    "                ## TODO: Use enemy_attack function to simulate enemy attacks\n",
    "                # PS: In this case as the enemy_attack is a negative value, we need to put the '+' sign because otherwise\n",
    "                # it will give more life to our character when an enemy hits it.\n",
    "                ############# YOUR CODE HERE #############\n",
    "                damage = enemy_attack(enemygen, gen_character.getDefence())\n",
    "                previous_health = gen_character.getHealth()\n",
    "                previous_health -= damage\n",
    "                gen_character.setHealth(previous_health)\n",
    "                del previous_health\n",
    "                ############# YOUR CODE HERE #############\n",
    "                # Checking if the enemy is dead\n",
    "\n",
    "                character_is_dead = is_dead(gen_character.getHealth())\n",
    "\n",
    "                if character_is_dead == True:\n",
    "                    battle = False\n",
    "                    return False\n",
    "\n",
    "                else:\n",
    "                    typing(f\"You character remaining health is {gen_character.getHealth()}\")\n",
    "\n",
    "            # this else is when the enemy dies\n",
    "            else:\n",
    "                battle = False\n",
    "                typing(\"You have defeated the enemy\")\n",
    "                typing(\"Did it drop any loot?\")\n",
    "                loot(gen_character.getLuck(), gen_character)\n",
    "\n",
    "                return True"
   ]
  },
  {
   "cell_type": "markdown",
   "metadata": {},
   "source": [
    "At the same time, fighting sometimes succeeds and sometimes fails. Maybe we also need to add a judgment on the hero's life value. If the life value is 0, then the hero dies, and our game is over."
   ]
  },
  {
   "cell_type": "code",
   "execution_count": 16,
   "metadata": {},
   "outputs": [],
   "source": [
    "def game_over(enemyDead):\n",
    "    \"\"\"\n",
    "    :param enemyDead:\n",
    "    :return: this function will let us know when the game is over\n",
    "    \"\"\"\n",
    "    if enemyDead == True:\n",
    "        typing(\"You've defeated your enemy\")\n",
    "\n",
    "    else:\n",
    "        typing(f\"You are out of health {class_data[5]}!\")\n",
    "        time.sleep(1)\n",
    "        typing(\"It's a pity... Game Over\")"
   ]
  },
  {
   "cell_type": "markdown",
   "metadata": {},
   "source": [
    "Next, let's march towards the second enemy"
   ]
  },
  {
   "cell_type": "code",
   "execution_count": 17,
   "metadata": {},
   "outputs": [
    {
     "name": "stdout",
     "output_type": "stream",
     "text": [
      "\n",
      "Call the class Enemy.\n",
      "Choose your weapon yxx!\n",
      "Sword Attack(1) \n",
      "Ranged Attack(2) \n",
      "Magic Attack(3)2\n",
      "\n",
      "You are preparing for the attack\n",
      "You've hit the enemy!\n",
      "The enemy health is -1\n",
      "You have defeated the enemy\n",
      "Did it drop any loot?\n",
      "Finding item diamond shield, the previous defence of hero yxx is 15.\n",
      "The defence of yxx become 35!\n",
      "You've defeated your enemy"
     ]
    }
   ],
   "source": [
    "enemy_2 = enemygen(levelBoss=False)\n",
    "battle_result2 = battle(enemygen=enemy_2, gen_character=gen_character)\n",
    "game_over(battle_result2)"
   ]
  },
  {
   "cell_type": "markdown",
   "metadata": {},
   "source": [
    "It feels good to progress! \n",
    "Let's move on to the third enemy"
   ]
  },
  {
   "cell_type": "code",
   "execution_count": 18,
   "metadata": {},
   "outputs": [
    {
     "name": "stdout",
     "output_type": "stream",
     "text": [
      "\n",
      "Call the class Enemy.\n",
      "Choose your weapon yxx!\n",
      "Sword Attack(1) \n",
      "Ranged Attack(2) \n",
      "Magic Attack(3)3\n",
      "\n",
      "You are preparing for the attack\n",
      "You've hit the enemy!\n",
      "The enemy health is 4\n",
      "Enchanting Aardwolf is preparing for an attack \n",
      "You're lucky: the enemy missed you\n",
      "You character remaining health is 30\n",
      "Choose your weapon yxx!\n",
      "Sword Attack(1) \n",
      "Ranged Attack(2) \n",
      "Magic Attack(3)3\n",
      "\n",
      "You are preparing for the attack\n",
      "You've hit the enemy!\n",
      "The enemy health is -1\n",
      "You have defeated the enemy\n",
      "Did it drop any loot?\n",
      "Finding item wooden bow, the previous ranged of hero yxx is 15.\n",
      "The ranged of yxx become 25!\n",
      "You've defeated your enemy"
     ]
    }
   ],
   "source": [
    "enemy_3 = enemygen(levelBoss=False)\n",
    "battle_result3 = battle(enemygen=enemy_3, gen_character=gen_character)\n",
    "game_over(battle_result3)"
   ]
  },
  {
   "cell_type": "code",
   "execution_count": 19,
   "metadata": {},
   "outputs": [
    {
     "name": "stdout",
     "output_type": "stream",
     "text": [
      "\n",
      "Call the class Enemy.\n",
      "Choose your weapon yxx!\n",
      "Sword Attack(1) \n",
      "Ranged Attack(2) \n",
      "Magic Attack(3)2\n",
      "\n",
      "You are preparing for the attack\n",
      "You've hit the enemy!\n",
      "The enemy health is -6\n",
      "You have defeated the enemy\n",
      "Did it drop any loot?\n",
      "Finding item wooden sword, the previous attack of hero yxx is 10.\n",
      "The attack of yxx become 20!\n",
      "You've defeated your enemy"
     ]
    }
   ],
   "source": [
    "enemy_4 = enemygen(levelBoss=False)\n",
    "battle_result4 = battle(enemygen=enemy_4, gen_character=gen_character)\n",
    "game_over(battle_result4)"
   ]
  },
  {
   "cell_type": "markdown",
   "metadata": {},
   "source": [
    "Maybe when you are ready, we will fight towards the final boss."
   ]
  },
  {
   "cell_type": "code",
   "execution_count": 24,
   "metadata": {},
   "outputs": [
    {
     "name": "stdout",
     "output_type": "stream",
     "text": [
      "\n",
      "Enemy Name: Python Homework. \n",
      "Health: 59. \n",
      "Attack: 24."
     ]
    }
   ],
   "source": [
    "enemy_boss = enemygen(levelBoss=True)\n",
    "enemy_boss.show()"
   ]
  },
  {
   "cell_type": "code",
   "execution_count": 25,
   "metadata": {},
   "outputs": [
    {
     "name": "stdout",
     "output_type": "stream",
     "text": [
      "\n",
      "Choose your weapon yxx!\n",
      "Sword Attack(1) \n",
      "Ranged Attack(2) \n",
      "Magic Attack(3)1\n",
      "\n",
      "You are preparing for the attack\n",
      "You've hit the enemy!\n",
      "The enemy health is 39\n",
      "Python Homework is preparing for an attack \n",
      "It has hit you!\n",
      "You stagger and you loose 0 points of health\n",
      "You character remaining health is 20\n",
      "Choose your weapon yxx!\n",
      "Sword Attack(1) \n",
      "Ranged Attack(2) \n",
      "Magic Attack(3)2\n",
      "\n",
      "You are preparing for the attack\n",
      "You've hit the enemy!\n",
      "The enemy health is 14\n",
      "Python Homework is preparing for an attack \n",
      "It has hit you!\n",
      "You stagger and you loose 0 points of health\n",
      "You character remaining health is 20\n",
      "Choose your weapon yxx!\n",
      "Sword Attack(1) \n",
      "Ranged Attack(2) \n",
      "Magic Attack(3)2\n",
      "\n",
      "You are preparing for the attack\n",
      "You've hit the enemy!\n",
      "The enemy health is -11\n",
      "You have defeated the enemy\n",
      "Did it drop any loot?\n",
      "Finding item iron bow, the previous ranged of hero yxx is 25.\n",
      "The ranged of yxx become 40!\n",
      "You've defeated your enemy"
     ]
    }
   ],
   "source": [
    "battle_result_boss = battle(enemygen=enemy_boss, gen_character=gen_character)\n",
    "game_over(battle_result_boss)"
   ]
  }
 ],
 "metadata": {
  "kernelspec": {
   "display_name": "Python 3 (ipykernel)",
   "language": "python",
   "name": "python3"
  },
  "language_info": {
   "codemirror_mode": {
    "name": "ipython",
    "version": 3
   },
   "file_extension": ".py",
   "mimetype": "text/x-python",
   "name": "python",
   "nbconvert_exporter": "python",
   "pygments_lexer": "ipython3",
   "version": "3.9.7"
  },
  "vscode": {
   "interpreter": {
    "hash": "2469a70536e4d2335a2ea8907942d0699c37342a371ac185bdb5b0aa6f073890"
   }
  }
 },
 "nbformat": 4,
 "nbformat_minor": 1
}
