{
 "cells": [
  {
   "cell_type": "markdown",
   "metadata": {
    "collapsed": true
   },
   "source": [
    "# Assignment Part 1: Economy Data Visualization\n",
    "\n",
    "In this assignment, you will be working with city-wide economic data for China from 2010 to 2019. This data includes information on population size, urbanization rate, and disposable income for various cities in China. You will use the Python libraries Numpy, Pandas, and Matplotlib to analyze and visualize this data, and gain insights into trends and patterns in the Chinese economy over the past decade. You will start by reading the data into a Pandas dataframe, and then use Numpy and Pandas to manipulate and summarize the data. You will then use Matplotlib to create plots and charts to visualize the data and uncover trends and patterns.\n",
    "\n",
    "By completing this assignment, you will gain hands-on experience with these important tools for data analysis and visualization in Python, and develop your skills in working with real-world data."
   ]
  },
  {
   "cell_type": "code",
   "execution_count": 55,
   "metadata": {},
   "outputs": [],
   "source": [
    "import matplotlib.pyplot as plt\n",
    "import pandas as pd\n",
    "import numpy as npy\n",
    "import seaborn as sns\n",
    "from copy import deepcopy as cp\n",
    "\n",
    "census = pd.read_csv('census.csv')\n",
    "census = census.fillna(0)"
   ]
  },
  {
   "cell_type": "markdown",
   "metadata": {},
   "source": [
    "# Task 1: Urbanization Analysis"
   ]
  },
  {
   "cell_type": "code",
   "execution_count": 2,
   "metadata": {},
   "outputs": [
    {
     "data": {
      "text/html": [
       "<div>\n",
       "<style scoped>\n",
       "    .dataframe tbody tr th:only-of-type {\n",
       "        vertical-align: middle;\n",
       "    }\n",
       "\n",
       "    .dataframe tbody tr th {\n",
       "        vertical-align: top;\n",
       "    }\n",
       "\n",
       "    .dataframe thead th {\n",
       "        text-align: right;\n",
       "    }\n",
       "</style>\n",
       "<table border=\"1\" class=\"dataframe\">\n",
       "  <thead>\n",
       "    <tr style=\"text-align: right;\">\n",
       "      <th></th>\n",
       "      <th>year</th>\n",
       "      <th>dum</th>\n",
       "      <th>urbanization_rate</th>\n",
       "      <th>urban_disposable_income</th>\n",
       "      <th>rural_disposable_income</th>\n",
       "    </tr>\n",
       "  </thead>\n",
       "  <tbody>\n",
       "    <tr>\n",
       "      <th>0</th>\n",
       "      <td>2010</td>\n",
       "      <td>Beijing</td>\n",
       "      <td>0.860</td>\n",
       "      <td>29072.9</td>\n",
       "      <td>13262.3</td>\n",
       "    </tr>\n",
       "    <tr>\n",
       "      <th>1</th>\n",
       "      <td>2011</td>\n",
       "      <td>Beijing</td>\n",
       "      <td>0.862</td>\n",
       "      <td>32903.0</td>\n",
       "      <td>14735.7</td>\n",
       "    </tr>\n",
       "    <tr>\n",
       "      <th>2</th>\n",
       "      <td>2012</td>\n",
       "      <td>Beijing</td>\n",
       "      <td>0.862</td>\n",
       "      <td>36468.8</td>\n",
       "      <td>16475.7</td>\n",
       "    </tr>\n",
       "    <tr>\n",
       "      <th>3</th>\n",
       "      <td>2013</td>\n",
       "      <td>Beijing</td>\n",
       "      <td>0.863</td>\n",
       "      <td>40321.0</td>\n",
       "      <td>18337.5</td>\n",
       "    </tr>\n",
       "    <tr>\n",
       "      <th>4</th>\n",
       "      <td>2014</td>\n",
       "      <td>Beijing</td>\n",
       "      <td>0.864</td>\n",
       "      <td>48531.8</td>\n",
       "      <td>18867.3</td>\n",
       "    </tr>\n",
       "    <tr>\n",
       "      <th>...</th>\n",
       "      <td>...</td>\n",
       "      <td>...</td>\n",
       "      <td>...</td>\n",
       "      <td>...</td>\n",
       "      <td>...</td>\n",
       "    </tr>\n",
       "    <tr>\n",
       "      <th>2045</th>\n",
       "      <td>2015</td>\n",
       "      <td>Chongqing</td>\n",
       "      <td>0.609</td>\n",
       "      <td>27238.8</td>\n",
       "      <td>10504.7</td>\n",
       "    </tr>\n",
       "    <tr>\n",
       "      <th>2046</th>\n",
       "      <td>2016</td>\n",
       "      <td>Chongqing</td>\n",
       "      <td>0.626</td>\n",
       "      <td>29610.0</td>\n",
       "      <td>11548.8</td>\n",
       "    </tr>\n",
       "    <tr>\n",
       "      <th>2047</th>\n",
       "      <td>2017</td>\n",
       "      <td>Chongqing</td>\n",
       "      <td>0.641</td>\n",
       "      <td>32193.2</td>\n",
       "      <td>12637.9</td>\n",
       "    </tr>\n",
       "    <tr>\n",
       "      <th>2048</th>\n",
       "      <td>2018</td>\n",
       "      <td>Chongqing</td>\n",
       "      <td>0.655</td>\n",
       "      <td>34889.3</td>\n",
       "      <td>13781.2</td>\n",
       "    </tr>\n",
       "    <tr>\n",
       "      <th>2049</th>\n",
       "      <td>2019</td>\n",
       "      <td>Chongqing</td>\n",
       "      <td>0.668</td>\n",
       "      <td>37938.6</td>\n",
       "      <td>15133.3</td>\n",
       "    </tr>\n",
       "  </tbody>\n",
       "</table>\n",
       "<p>2050 rows × 5 columns</p>\n",
       "</div>"
      ],
      "text/plain": [
       "      year        dum  urbanization_rate  urban_disposable_income  \\\n",
       "0     2010    Beijing              0.860                  29072.9   \n",
       "1     2011    Beijing              0.862                  32903.0   \n",
       "2     2012    Beijing              0.862                  36468.8   \n",
       "3     2013    Beijing              0.863                  40321.0   \n",
       "4     2014    Beijing              0.864                  48531.8   \n",
       "...    ...        ...                ...                      ...   \n",
       "2045  2015  Chongqing              0.609                  27238.8   \n",
       "2046  2016  Chongqing              0.626                  29610.0   \n",
       "2047  2017  Chongqing              0.641                  32193.2   \n",
       "2048  2018  Chongqing              0.655                  34889.3   \n",
       "2049  2019  Chongqing              0.668                  37938.6   \n",
       "\n",
       "      rural_disposable_income  \n",
       "0                     13262.3  \n",
       "1                     14735.7  \n",
       "2                     16475.7  \n",
       "3                     18337.5  \n",
       "4                     18867.3  \n",
       "...                       ...  \n",
       "2045                  10504.7  \n",
       "2046                  11548.8  \n",
       "2047                  12637.9  \n",
       "2048                  13781.2  \n",
       "2049                  15133.3  \n",
       "\n",
       "[2050 rows x 5 columns]"
      ]
     },
     "execution_count": 2,
     "metadata": {},
     "output_type": "execute_result"
    }
   ],
   "source": [
    "\"\"\"\n",
    "Preprocess dataframe.\n",
    "\"\"\"\n",
    "dataframe = pd.DataFrame(census, columns=['year', 'dum', 'urbanization_rate', 'urban_disposable_income', 'rural_disposable_income'])\n",
    "dataframe"
   ]
  },
  {
   "cell_type": "markdown",
   "metadata": {},
   "source": [
    "We have the urbanization_rate of several cities between 2010 and 2019.\n",
    "Now, we are going to find the most `successful` city on urbanization.\n",
    "For example, Beijing's urbanization_rate is 0.860 on 2010 and 0.866 on 2019.\n",
    "Beijing has a 0.006 improvement.\n",
    "The task is to find the city with the highest improvement.\n",
    "\n",
    "We visualize the average urbanization_rate from 2010 to 2019.\n",
    "It is promising to find that the urbanization_rate improves gradually recent years."
   ]
  },
  {
   "cell_type": "code",
   "execution_count": 67,
   "metadata": {},
   "outputs": [
    {
     "data": {
      "image/png": "[encoded data removed]",
      "text/plain": [
       "<Figure size 720x720 with 1 Axes>"
      ]
     },
     "metadata": {
      "needs_background": "light"
     },
     "output_type": "display_data"
    }
   ],
   "source": [
    "plt.figure(figsize=(10,10))\n",
    "plt.title('Average urbanization_rate from 2010 to 2019')\n",
    "\n",
    "# TODO: use seaborn.lineplot to plot the grneral urbanization rate\n",
    "############# YOUR CODE HERE #############\n",
    "year_range = list(range(2010, 2020, 1))\n",
    "avg_urbanization_rate = []\n",
    "for y in year_range:\n",
    "    avg_urbanization_rate.append(dataframe[dataframe['year']==y]['urbanization_rate'].mean())\n",
    "plotting_data = pd.DataFrame({'year': year_range, 'average urbanization_rate': avg_urbanization_rate})\n",
    "sns.lineplot(data=plotting_data, x=\"year\", y=\"average urbanization_rate\")\n",
    "del plotting_data\n",
    "############# YOUR CODE HERE #############"
   ]
  },
  {
   "cell_type": "markdown",
   "metadata": {},
   "source": [
    "Now, we need to collect the improvements for all the cities.\n",
    "Specifically, `collected_urban_rates` is a numpy array with shape [num_cities, 2].\n",
    "Each row contains urbanization rates of a city on 2010 and 2019, respectively."
   ]
  },
  {
   "cell_type": "code",
   "execution_count": 79,
   "metadata": {},
   "outputs": [
    {
     "name": "stdout",
     "output_type": "stream",
     "text": [
      "The most successful city is Zibo City, the urbanization rate improves from 0.402 to 0.72.\n"
     ]
    }
   ],
   "source": [
    "# cities = list(set(dataframe['dum']))\n",
    "# Fix wrong cities\n",
    "# 202 != 2050 / 10, there are some cities with same name in phonetic transcription. Such as Tai Zhou in Zhe Jiang and Tai Zhou in Jiang Su.\n",
    "# However, we have no more information to find that which cities is the real \"Tai Zhou\", so I use \"Tai Zhou\" and \"Tai Zhou_\" to distinguish them.\n",
    "# We can check that the modify will not influence the result.\n",
    "temp_frame = dataframe[dataframe['year']==2010]\n",
    "cities = []\n",
    "for city in list(temp_frame['dum']):\n",
    "    while city in cities:\n",
    "        city = city + \"_\"\n",
    "    cities.append(city)\n",
    "assert len(cities) == 2050 // 10\n",
    "del temp_frame\n",
    "\n",
    "# modify the dataframe\n",
    "temp_frame = cp(dataframe)\n",
    "assert id(temp_frame) != id(dataframe)\n",
    "cnt = 0\n",
    "for city in cities:\n",
    "    for index in range(10):\n",
    "        temp_frame.iloc[cnt + index, 1] = city\n",
    "    cnt += 10\n",
    "\n",
    "# TODO: Obtain `collected_urban_rates`\n",
    "############# YOUR CODE HERE #############\n",
    "num_cities = len(cities)\n",
    "collected_urban_rates = npy.zeros((num_cities, 2))\n",
    "\n",
    "for index, city in enumerate(cities):\n",
    "    collected_urban_rates[index, 0] = temp_frame[(temp_frame.year==2010) & (temp_frame.dum==city)]['urbanization_rate']\n",
    "    collected_urban_rates[index, 1] = temp_frame[(temp_frame.year==2019) & (temp_frame.dum==city)]['urbanization_rate']\n",
    "del temp_frame\n",
    "############# YOUR CODE HERE #############\n",
    "\n",
    "idx = npy.argmax(collected_urban_rates[:, 1] - collected_urban_rates[:, 0])\n",
    "print(f\"The most successful city is {cities[idx]}, the urbanization rate improves from {collected_urban_rates[idx, 0]} to {collected_urban_rates[idx, 1]}.\")"
   ]
  },
  {
   "cell_type": "markdown",
   "metadata": {},
   "source": [
    "# Task 2: Economy Data Visualization\n",
    "\n",
    "In this task, we are going to visualize some economy data and trends in the dataset."
   ]
  },
  {
   "cell_type": "code",
   "execution_count": 80,
   "metadata": {},
   "outputs": [
    {
     "data": {
      "image/png": "[encoded data removed]",
      "text/plain": [
       "<Figure size 864x216 with 4 Axes>"
      ]
     },
     "metadata": {
      "needs_background": "light"
     },
     "output_type": "display_data"
    }
   ],
   "source": [
    "# TODO: plot the line plot of urban disposable income of `Beijing`, `Guangzhou City`, `Shanghai` and `Shenzhen`\n",
    "\n",
    "############## YOUR CODE HERE ##############\n",
    "temp_data = []\n",
    "cities = [\"Beijing\", \"Guangzhou City\", \"Shanghai\", \"Shenzhen\"]\n",
    "for city in cities:\n",
    "    temp_data.append(dataframe[dataframe['dum'] == city])\n",
    "\n",
    "# print(temp_data[0])\n",
    "\n",
    "fig, ax =plt.subplots(1, 4, constrained_layout=True, figsize=(12, 3))\n",
    "for index, data in enumerate(temp_data):\n",
    "    sub_ax = sns.lineplot(x=data.year, y=data.urban_disposable_income, ax=ax[index])\n",
    "    sub_ax.set_title(cities[index])\n",
    "del temp_data, cities, city\n",
    "############# YOUR CODE HERE #############"
   ]
  },
  {
   "cell_type": "markdown",
   "metadata": {},
   "source": [
    "The Theil index is a statistic primarily used to measure economic inequality. For more information, you can refer to https://en.wikipedia.org/wiki/Theil_index\n",
    "Here, let's find out the cities who has higher Theil index in 2019 than that in 2010, and then draw a bar plot of their change from 2010 to 2019."
   ]
  },
  {
   "cell_type": "code",
   "execution_count": null,
   "metadata": {},
   "outputs": [],
   "source": [
    "# TODO: find out the cities who has higher Theil index in 2019 than that in 2010, and then draw a bar plot of their change from 2010 to 2019.\n",
    "\n",
    "############## YOUR CODE HERE ##############\n",
    "\n",
    "############## YOUR CODE HERE ##############"
   ]
  },
  {
   "cell_type": "markdown",
   "metadata": {},
   "source": [
    "# Task 3: Disposable income\n",
    "\n",
    "In this task, you need to analyze average disposable income in the dataset."
   ]
  },
  {
   "cell_type": "markdown",
   "metadata": {},
   "source": [
    "First, you need to calculate the disposable income for each city. Suppose this can be calculated by:\n",
    "$$ \\text{disposable\\_income} =\\text{urban\\_disposable\\_income}\\times \\text{urbanization\\_rate}+\\text{rural\\_disposable\\_income}\\times(1-\\text{urbanization\\_rate})$$"
   ]
  },
  {
   "cell_type": "code",
   "execution_count": null,
   "metadata": {},
   "outputs": [],
   "source": [
    "## TODO Calculate disposable_income\n",
    "############## YOUR CODE HERE ##############\n",
    "############## YOUR CODE HERE ##############\n"
   ]
  },
  {
   "cell_type": "markdown",
   "metadata": {},
   "source": [
    "Then, calculate the average disposable income and total income for each city from 2011 to 2019."
   ]
  },
  {
   "cell_type": "code",
   "execution_count": null,
   "metadata": {},
   "outputs": [],
   "source": [
    "## TODO Calculate average disposable_income and total_income from 2011 to 2019\n",
    "############## YOUR CODE HERE ##############\n",
    "############## YOUR CODE HERE ##############\n"
   ]
  },
  {
   "cell_type": "markdown",
   "metadata": {},
   "source": [
    "Finally, regression analysis is needed to find the relationship between the disposable_income and total_income.\n",
    "For that, use seaborn.regplot to regress  disposable_income and total_income."
   ]
  },
  {
   "cell_type": "code",
   "execution_count": null,
   "metadata": {},
   "outputs": [],
   "source": [
    "## TODO Draw the fitted regression curve and scatter points.\n",
    "############## YOUR CODE HERE ##############\n",
    "############## YOUR CODE HERE ##############\n"
   ]
  }
 ],
 "metadata": {
  "kernelspec": {
   "display_name": "Python 3 (ipykernel)",
   "language": "python",
   "name": "python3"
  },
  "language_info": {
   "codemirror_mode": {
    "name": "ipython",
    "version": 3
   },
   "file_extension": ".py",
   "mimetype": "text/x-python",
   "name": "python",
   "nbconvert_exporter": "python",
   "pygments_lexer": "ipython3",
   "version": "3.9.7"
  },
  "vscode": {
   "interpreter": {
    "hash": "623568469e8e57dc4aed92b9b143063b2532ed5f3a3b218224b73fc432d4b479"
   }
  }
 },
 "nbformat": 4,
 "nbformat_minor": 1
}
