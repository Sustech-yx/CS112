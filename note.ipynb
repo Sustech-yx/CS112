{
 "cells": [
  {
   "cell_type": "markdown",
   "metadata": {
    "pycharm": {
     "name": "#%% md\n"
    },
    "tags": []
   },
   "source": [
    "# CS112 Introduction to Python Programming\n",
    "\n",
    "> Life is short, use Python!\n",
    "\n",
    "## Grading\n",
    "|Part|Proportion|\n",
    "|---|---|\n",
    "|Attendance|10%|\n",
    "|Assignments|30%|\n",
    "|Quiz|30%|\n",
    "|Final exam|30%|\n",
    "\n",
    "Remember following the class every week!"
   ]
  },
  {
   "cell_type": "code",
   "execution_count": 1,
   "metadata": {
    "pycharm": {
     "name": "#%%\n"
    }
   },
   "outputs": [
    {
     "name": "stdout",
     "output_type": "stream",
     "text": [
      "The Zen of Python, by Tim Peters\n",
      "\n",
      "Beautiful is better than ugly.\n",
      "Explicit is better than implicit.\n",
      "Simple is better than complex.\n",
      "Complex is better than complicated.\n",
      "Flat is better than nested.\n",
      "Sparse is better than dense.\n",
      "Readability counts.\n",
      "Special cases aren't special enough to break the rules.\n",
      "Although practicality beats purity.\n",
      "Errors should never pass silently.\n",
      "Unless explicitly silenced.\n",
      "In the face of ambiguity, refuse the temptation to guess.\n",
      "There should be one-- and preferably only one --obvious way to do it.\n",
      "Although that way may not be obvious at first unless you're Dutch.\n",
      "Now is better than never.\n",
      "Although never is often better than *right* now.\n",
      "If the implementation is hard to explain, it's a bad idea.\n",
      "If the implementation is easy to explain, it may be a good idea.\n",
      "Namespaces are one honking great idea -- let's do more of those!\n"
     ]
    }
   ],
   "source": [
    "import this"
   ]
  },
  {
   "cell_type": "markdown",
   "metadata": {},
   "source": [
    "## Why Programming?\n",
    "\n",
    "Von Neumann machine: Both instructions and data are stored in memory in binary form, such as *memory*, and instructions are executed according to the order in which they are stored.\n",
    "\n",
    "Machine code: `100111100001111000101110_100111100111100001101100_100110000000110000010000_\n",
    "100111100110010000100010_100111100111001000011110_10011110011101100101010`. \n",
    "The machine code in binary form is clear to the machine, and the machine can execute the code according to the predetermined logic according to the machine code. But such language is obscure to human beings.\n",
    "\n",
    "Assembly language: The concept of assembly is introduced. Assembly is a low-level language. It uses mnemonics (add, mov, bne, etc.) to replace the opcodes in machine instructions, and addresses or flags to replace the addresses of instructions and operands.\n",
    "\n",
    "**Notice**: Different computer architectures have different instruction sets. This means that their assembly code specifications are different. Developers have adopted different ideas. `Java` introduces the mechanism of JVM virtual machine, so that its code can realize cross platform; The open source community provides many cross compilation tools for people to use.\n",
    "\n",
    "After the low-level language, the high-level language comes next. High level languages are mainly divided into two categories: **interpreted** and **compiled**. Compiled languages are represented by Java, C, etc. Interpretative languages include **Python**, R, and so on. Compiled languages have a remarkable feature. They need to go through complex steps of source code (will be introduced in CS323 Compile Principle). This means that **the code cannot be changed and run at any time**. Explanatory language has natural advantages in this respect. In addition, interpreted languages have a natural cross platform feature, because they do not involve the conversion of assembly code, so they are **not limited by computer platforms**. However, the interpreted language also has a fatal flaw, that is, in general, its running **efficiency is far lower** than that of the compiled language. Last but not least. Interpreted language is relatively easy to master. Fortunately, this will be the first programming language you know. Hava fun！\n",
    "\n",
    "### Python history\n",
    "- Conceived in the late 1980s by Guido va Rossum\n",
    "- Python 1.0 was introduces in 1994\n",
    "- Python 2.0 was released on 16 October 2000\n",
    "- Python 2 was discontinued with version 2.7 in 2020\n",
    "- Python 3.0 was released on 3 December 2008, and the current version is Python 3.11!\n",
    "\n",
    "``` python\n",
    "%: line magic command\n",
    "%automagic: turn on and off automagic switch\n",
    "%cd: (change directory)\n",
    "%cd ..\n",
    "%cd ~\n",
    "%pwd: (print working directory)\n",
    "%ls: (list)\n",
    "%mkdir: (make directory)\n",
    "%clear\n",
    "%run test.py\n",
    "%lsmagic\n",
    "# magic commands in IPython\n",
    "```\n",
    "\n",
    "If you want to use unix system shell commands, you should add **!** in front of your command and execut it.\n",
    "\n",
    "> Gold egg: Can you find the meaning of the machine code?"
   ]
  },
  {
   "cell_type": "markdown",
   "metadata": {
    "pycharm": {
     "name": "#%% md\n"
    }
   },
   "source": [
    "## Basic Type and Operations"
   ]
  },
  {
   "cell_type": "code",
   "execution_count": 11,
   "metadata": {
    "pycharm": {
     "name": "#%%\n"
    }
   },
   "outputs": [
    {
     "name": "stdout",
     "output_type": "stream",
     "text": [
      "i is 112, j is 0.5833333333333334, k is True\n",
      "Type of i is <class 'int'>, type of j is <class 'float'>, type of k is <class 'bool'>.\n",
      "Hello World!"
     ]
    }
   ],
   "source": [
    "i:int\n",
    "j:float\n",
    "k:bool\n",
    "l:str\n",
    "\n",
    "i = 112\n",
    "j = 7 / 12\n",
    "k = True\n",
    "l = 'Hello World'\n",
    "print(f'i is {i}, j is {j}, k is {k}\\n'\n",
    "f'Type of i is {type(i)}, type of j is {type(j)}, type of k is {type(k)}.')\n",
    "print(l, end='!')"
   ]
  },
  {
   "cell_type": "code",
   "execution_count": null,
   "outputs": [],
   "source": [],
   "metadata": {
    "collapsed": false,
    "pycharm": {
     "name": "#%%\n"
    }
   }
  },
  {
   "cell_type": "code",
   "execution_count": null,
   "metadata": {},
   "outputs": [],
   "source": []
  }
 ],
 "metadata": {
  "kernelspec": {
   "display_name": "Python 3 (ipykernel)",
   "language": "python",
   "name": "python3"
  },
  "language_info": {
   "codemirror_mode": {
    "name": "ipython",
    "version": 3
   },
   "file_extension": ".py",
   "mimetype": "text/x-python",
   "name": "python",
   "nbconvert_exporter": "python",
   "pygments_lexer": "ipython3",
   "version": "3.7.15"
  }
 },
 "nbformat": 4,
 "nbformat_minor": 4
}